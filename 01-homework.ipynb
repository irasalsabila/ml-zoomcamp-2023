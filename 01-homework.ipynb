{
 "cells": [
  {
   "cell_type": "markdown",
   "metadata": {},
   "source": [
    "Question 1\n",
    "\n",
    "What's the version of Pandas that you installed?\n",
    "\n",
    "You can get the version information using the __version__ field:\n",
    "\n",
    "`pd.__version__`"
   ]
  },
  {
   "cell_type": "code",
   "execution_count": 1,
   "metadata": {},
   "outputs": [
    {
     "data": {
      "text/plain": [
       "'1.5.3'"
      ]
     },
     "execution_count": 1,
     "metadata": {},
     "output_type": "execute_result"
    }
   ],
   "source": [
    "import pandas as pd\n",
    "pd.__version__"
   ]
  },
  {
   "cell_type": "markdown",
   "metadata": {},
   "source": [
    "Getting the data"
   ]
  },
  {
   "cell_type": "code",
   "execution_count": 2,
   "metadata": {},
   "outputs": [],
   "source": [
    "import requests\n",
    "\n",
    "url = \"https://raw.githubusercontent.com/alexeygrigorev/datasets/master/housing.csv\"\n",
    "response = requests.get(url)\n",
    "\n",
    "if response.status_code == 200:\n",
    "    with open(\"data/housing.csv\", \"wb\") as file:\n",
    "        file.write(response.content)\n",
    "else:\n",
    "    print(\"Failed to download the file.\")"
   ]
  },
  {
   "cell_type": "markdown",
   "metadata": {},
   "source": [
    "Question 2\n",
    "\n",
    "How many columns are in the dataset?"
   ]
  },
  {
   "cell_type": "code",
   "execution_count": 3,
   "metadata": {},
   "outputs": [
    {
     "data": {
      "text/plain": [
       "10"
      ]
     },
     "execution_count": 3,
     "metadata": {},
     "output_type": "execute_result"
    }
   ],
   "source": [
    "df = pd.read_csv('data/housing.csv')\n",
    "len(df.columns)"
   ]
  },
  {
   "cell_type": "markdown",
   "metadata": {},
   "source": [
    "Question 3\n",
    "\n",
    "Which columns in the dataset have missing values?"
   ]
  },
  {
   "cell_type": "code",
   "execution_count": 4,
   "metadata": {},
   "outputs": [
    {
     "name": "stdout",
     "output_type": "stream",
     "text": [
      "total_bedrooms    207\n",
      "dtype: int64\n"
     ]
    }
   ],
   "source": [
    "missing_values_df = df.isna().sum()\n",
    "print(missing_values_df[missing_values_df > 0])"
   ]
  },
  {
   "cell_type": "markdown",
   "metadata": {},
   "source": [
    "Question 4\n",
    "\n",
    "How many unique values does the `ocean_proximity` column have?"
   ]
  },
  {
   "cell_type": "code",
   "execution_count": 5,
   "metadata": {},
   "outputs": [
    {
     "data": {
      "text/plain": [
       "array(['NEAR BAY', '<1H OCEAN', 'INLAND', 'NEAR OCEAN', 'ISLAND'],\n",
       "      dtype=object)"
      ]
     },
     "execution_count": 5,
     "metadata": {},
     "output_type": "execute_result"
    }
   ],
   "source": [
    "df['ocean_proximity'].unique()"
   ]
  },
  {
   "cell_type": "code",
   "execution_count": 6,
   "metadata": {},
   "outputs": [
    {
     "data": {
      "text/plain": [
       "5"
      ]
     },
     "execution_count": 6,
     "metadata": {},
     "output_type": "execute_result"
    }
   ],
   "source": [
    "len(df['ocean_proximity'].unique())"
   ]
  },
  {
   "cell_type": "markdown",
   "metadata": {},
   "source": [
    "Question 5\n",
    "\n",
    "What's the average value of the `median_house_value` for the houses located near the bay?"
   ]
  },
  {
   "cell_type": "code",
   "execution_count": 7,
   "metadata": {},
   "outputs": [
    {
     "name": "stdout",
     "output_type": "stream",
     "text": [
      "Average median_house_value for houses near the bay: 259212.31179039303\n"
     ]
    }
   ],
   "source": [
    "average_near_bay = df[df['ocean_proximity'] == 'NEAR BAY']['median_house_value'].mean()\n",
    "print(\"Average median_house_value for houses near the bay:\", average_near_bay)"
   ]
  },
  {
   "cell_type": "markdown",
   "metadata": {},
   "source": [
    "Question 6\n",
    "\n",
    "1. Calculate the average of `total_bedrooms` column in the dataset.\n",
    "2. Use the `fillna` method to fill the missing values in `total_bedrooms` with the mean value from the previous step.\n",
    "3. Now, calculate the average of `total_bedrooms` again.\n",
    "4. Has it changed?"
   ]
  },
  {
   "cell_type": "code",
   "execution_count": 8,
   "metadata": {},
   "outputs": [
    {
     "name": "stdout",
     "output_type": "stream",
     "text": [
      "Average total_bedrooms before filling missing values: 537.871\n",
      "Average total_bedrooms after filling missing values: 537.871\n"
     ]
    }
   ],
   "source": [
    "# Step 1: Calculate the average of total_bedrooms column\n",
    "average_total_bedrooms_before_fillna = round(df['total_bedrooms'].mean(), 3)\n",
    "print(\"Average total_bedrooms before filling missing values:\", average_total_bedrooms_before_fillna)\n",
    "\n",
    "# Step 2: Fill missing values in total_bedrooms with the mean value\n",
    "df['total_bedrooms'].fillna(average_total_bedrooms_before_fillna, inplace=True)\n",
    "\n",
    "# Step 3: Calculate the average of total_bedrooms again\n",
    "average_total_bedrooms_after_fillna = round(df['total_bedrooms'].mean(), 3)\n",
    "print(\"Average total_bedrooms after filling missing values:\", average_total_bedrooms_after_fillna)"
   ]
  },
  {
   "cell_type": "markdown",
   "metadata": {},
   "source": [
    "Question 7\n",
    "\n",
    "1. Select all the options located on islands.\n",
    "2. Select only columns `housing_median_age`, `total_rooms`, `total_bedrooms`.\n",
    "3. Get the underlying NumPy array. Let's call it `X`.\n",
    "4. Compute matrix-matrix multiplication between the transpose of `X` and `X`. To get the transpose, use `X.T`. Let's call the result XTX.\n",
    "5. Compute the inverse of `XTX`.\n",
    "6. Create an array `y` with values `[950, 1300, 800, 1000, 1300]`.\n",
    "7. Multiply the inverse of `XTX` with the transpose of `X`, and then multiply the result by `y`. Call the result `w`.\n",
    "8. What's the value of the last element of `w`?"
   ]
  },
  {
   "cell_type": "code",
   "execution_count": 9,
   "metadata": {},
   "outputs": [
    {
     "name": "stdout",
     "output_type": "stream",
     "text": [
      "The value of the last element of w is: 5.6992\n"
     ]
    }
   ],
   "source": [
    "import numpy as np \n",
    "\n",
    "# Step 1: Select options located on islands\n",
    "islands_data = df[df['ocean_proximity'] == 'ISLAND']\n",
    "\n",
    "# Step 2: Select specific columns\n",
    "selected_columns = islands_data[['housing_median_age', 'total_rooms', 'total_bedrooms']]\n",
    "\n",
    "# Step 3: Get the underlying NumPy array (X)\n",
    "X = selected_columns.to_numpy()\n",
    "\n",
    "# Step 4: Compute XTX\n",
    "XTX = np.dot(X.T, X)\n",
    "\n",
    "# Step 5: Compute the inverse of XTX\n",
    "XTX_inverse = np.linalg.inv(XTX)\n",
    "\n",
    "# Step 6: Create array y\n",
    "y = np.array([950, 1300, 800, 1000, 1300])\n",
    "\n",
    "# Step 7: Calculate w (weights) using linear regression formula\n",
    "w = np.dot(np.dot(XTX_inverse, X.T), y)\n",
    "\n",
    "# Step 8: Get the last element of w\n",
    "last_element_w = w[-1]\n",
    "\n",
    "print(\"The value of the last element of w is:\", round(last_element_w, 4))"
   ]
  },
  {
   "cell_type": "code",
   "execution_count": null,
   "metadata": {},
   "outputs": [],
   "source": []
  }
 ],
 "metadata": {
  "kernelspec": {
   "display_name": "base",
   "language": "python",
   "name": "python3"
  },
  "language_info": {
   "codemirror_mode": {
    "name": "ipython",
    "version": 3
   },
   "file_extension": ".py",
   "mimetype": "text/x-python",
   "name": "python",
   "nbconvert_exporter": "python",
   "pygments_lexer": "ipython3",
   "version": "3.9.12"
  },
  "orig_nbformat": 4
 },
 "nbformat": 4,
 "nbformat_minor": 2
}

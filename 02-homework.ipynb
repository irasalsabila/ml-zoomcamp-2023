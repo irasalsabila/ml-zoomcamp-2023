{
 "cells": [
  {
   "cell_type": "markdown",
   "metadata": {},
   "source": [
    "Dataset"
   ]
  },
  {
   "cell_type": "code",
   "execution_count": 1,
   "metadata": {},
   "outputs": [],
   "source": [
    "import requests\n",
    "\n",
    "url = \"https://raw.githubusercontent.com/alexeygrigorev/datasets/master/housing.csv\"\n",
    "response = requests.get(url)\n",
    "\n",
    "if response.status_code == 200:\n",
    "    with open(\"data/housing.csv\", \"wb\") as file:\n",
    "        file.write(response.content)\n",
    "else:\n",
    "    print(\"Failed to download the file.\")"
   ]
  },
  {
   "cell_type": "markdown",
   "metadata": {},
   "source": [
    "The goal of this homework is to create a regression model for predicting housing prices (column 'median_house_value')."
   ]
  },
  {
   "cell_type": "markdown",
   "metadata": {},
   "source": [
    "#### EDA\n",
    "- Load the data.\n",
    "- Look at the median_house_value variable. Does it have a long tail?"
   ]
  },
  {
   "cell_type": "code",
   "execution_count": 2,
   "metadata": {},
   "outputs": [],
   "source": [
    "import pandas as pd \n",
    "\n",
    "# Load the dataset\n",
    "df = pd.read_csv(\"data/housing.csv\")"
   ]
  },
  {
   "cell_type": "code",
   "execution_count": 3,
   "metadata": {},
   "outputs": [
    {
     "data": {
      "image/png": "[encoded data removed]",
      "text/plain": [
       "<Figure size 432x288 with 1 Axes>"
      ]
     },
     "metadata": {
      "needs_background": "light"
     },
     "output_type": "display_data"
    }
   ],
   "source": [
    "import matplotlib.pyplot as plt\n",
    "\n",
    "# Plot a histogram of the median_house_value variable\n",
    "plt.hist(df[\"median_house_value\"], bins=50, edgecolor='k')\n",
    "plt.xlabel(\"Median House Value\")\n",
    "plt.ylabel(\"Frequency\")\n",
    "plt.title(\"Distribution of Median House Value\")\n",
    "plt.show()"
   ]
  },
  {
   "cell_type": "markdown",
   "metadata": {},
   "source": [
    "##### Preparing the dataset\n",
    "For this homework, we only want to use a subset of data.\n",
    "\n",
    "First, keep only the records where `ocean_proximity` is either `'<1H OCEAN'` or `'INLAND'`\n",
    "\n",
    "Next, use only the following columns:\n",
    "\n",
    "- `'latitude'`,\n",
    "- `'longitude'`,\n",
    "- `'housing_median_age'`,\n",
    "- `'total_rooms'`,\n",
    "- `'total_bedrooms'`,\n",
    "- `'population'`,\n",
    "- `'households'`,\n",
    "- `'median_income'`,\n",
    "- `'median_house_value'`"
   ]
  },
  {
   "cell_type": "code",
   "execution_count": 4,
   "metadata": {},
   "outputs": [],
   "source": [
    "# Filter records where ocean_proximity is either '<1H OCEAN' or 'INLAND'\n",
    "filtered_df = df[df['ocean_proximity'].isin(['<1H OCEAN', 'INLAND'])]\n",
    "\n",
    "# Select the desired columns\n",
    "selected_columns = [\n",
    "    'latitude',\n",
    "    'longitude',\n",
    "    'housing_median_age',\n",
    "    'total_rooms',\n",
    "    'total_bedrooms',\n",
    "    'population',\n",
    "    'households',\n",
    "    'median_income',\n",
    "    'median_house_value'\n",
    "]\n",
    "\n",
    "df = filtered_df[selected_columns]"
   ]
  },
  {
   "cell_type": "markdown",
   "metadata": {},
   "source": [
    "Question 1\n",
    "\n",
    "There's one feature with missing values. What is it?"
   ]
  },
  {
   "cell_type": "code",
   "execution_count": 5,
   "metadata": {},
   "outputs": [
    {
     "name": "stdout",
     "output_type": "stream",
     "text": [
      "total_bedrooms    157\n",
      "dtype: int64\n"
     ]
    }
   ],
   "source": [
    "# Check for missing values and sum them up for each column\n",
    "missing_values = df.isnull().sum()\n",
    "\n",
    "# Print the columns with missing values\n",
    "print(missing_values[missing_values > 0])"
   ]
  },
  {
   "cell_type": "markdown",
   "metadata": {},
   "source": [
    "Question 2\n",
    "\n",
    "What's the median (50% percentile) for variable `'population'`?"
   ]
  },
  {
   "cell_type": "code",
   "execution_count": 6,
   "metadata": {},
   "outputs": [
    {
     "name": "stdout",
     "output_type": "stream",
     "text": [
      "Median population: 1195.0\n"
     ]
    }
   ],
   "source": [
    "# Calculate the median for the 'population' variable\n",
    "median_population = df['population'].median()\n",
    "\n",
    "print(\"Median population:\", median_population)"
   ]
  },
  {
   "cell_type": "markdown",
   "metadata": {},
   "source": [
    "##### Prepare and split the dataset\n",
    "- Shuffle the initial dataset, use seed `42`.\n",
    "- Split your data in train/val/test sets, with 60%/20%/20% distribution.\n",
    "- Apply the log transformation to the `median_house_value` variable using the `np.log1p()` function."
   ]
  },
  {
   "cell_type": "code",
   "execution_count": 7,
   "metadata": {},
   "outputs": [],
   "source": [
    "# Function to preprocess the data\n",
    "def preprocess_data(df):\n",
    "    # Apply log transformation to median_house_value\n",
    "    df['median_house_value'] = np.log1p(df['median_house_value'])\n",
    "    \n",
    "    # Separate features and labels\n",
    "    X = df.drop(columns=['median_house_value'])\n",
    "    y = df['median_house_value']\n",
    "    \n",
    "    return X, y"
   ]
  },
  {
   "cell_type": "code",
   "execution_count": 8,
   "metadata": {},
   "outputs": [
    {
     "name": "stdout",
     "output_type": "stream",
     "text": [
      "Train set shape: (9412, 8)\n",
      "Validation set shape: (3137, 8)\n",
      "Test set shape: (3138, 8)\n"
     ]
    }
   ],
   "source": [
    "import numpy as np\n",
    "from sklearn.model_selection import train_test_split\n",
    "\n",
    "# Shuffle the dataset with seed 42\n",
    "shuffled_df = df.sample(frac=1, random_state=42)\n",
    "\n",
    "# Split the dataset into train (60%), validation (20%), and test (20%) sets\n",
    "train_size = 0.6\n",
    "val_size = 0.2\n",
    "test_size = 0.2\n",
    "\n",
    "train_df, temp_df = train_test_split(shuffled_df, train_size=train_size, random_state=42)\n",
    "val_df, test_df = train_test_split(temp_df, train_size=val_size/(val_size + test_size), random_state=42)\n",
    "\n",
    "# Preprocess the data\n",
    "X_train, y_train = preprocess_data(train_df)\n",
    "X_val, y_val = preprocess_data(val_df)\n",
    "X_test, y_test = preprocess_data(test_df)\n",
    "\n",
    "# Display the shapes of the resulting datasets\n",
    "print(\"Train set shape:\", X_train.shape)\n",
    "print(\"Validation set shape:\", X_val.shape)\n",
    "print(\"Test set shape:\", X_test.shape)"
   ]
  },
  {
   "cell_type": "markdown",
   "metadata": {},
   "source": [
    "Question 3\n",
    "\n",
    "1. We need to deal with missing values for the column from Q1.\n",
    "2. We have two options: fill it with 0 or with the mean of this variable.\n",
    "3. Try both options. For each, train a linear regression model without regularization using the code from the lessons.\n",
    "4. For computing the mean, use the training only!\n",
    "5. Use the validation dataset to evaluate the models and compare the RMSE of each option.\n",
    "6. Round the RMSE scores to 2 decimal digits using round(score, 2)\n",
    "7. Which option gives better RMSE?\n",
    "\n",
    "Options:\n",
    "\n",
    "- With 0\n",
    "- With mean\n",
    "- Both are equally good"
   ]
  },
  {
   "cell_type": "code",
   "execution_count": 9,
   "metadata": {},
   "outputs": [],
   "source": [
    "# Function to train and evaluate a linear regression model\n",
    "def train_and_evaluate(X_train, y_train, X_val, y_val):\n",
    "    model = LinearRegression()\n",
    "    model.fit(X_train, y_train)\n",
    "    \n",
    "    # Make predictions on the validation dataset\n",
    "    predictions = model.predict(X_val)\n",
    "    \n",
    "    # Calculate RMSE on the validation dataset\n",
    "    rmse = np.round(np.sqrt(mean_squared_error(y_val, predictions)), 2)\n",
    "    \n",
    "    return rmse"
   ]
  },
  {
   "cell_type": "code",
   "execution_count": 10,
   "metadata": {},
   "outputs": [
    {
     "name": "stdout",
     "output_type": "stream",
     "text": [
      "Both options are equally good\n",
      "RMSE With 0: 0.35\n",
      "RMSE With mean: 0.35\n"
     ]
    }
   ],
   "source": [
    "from sklearn.linear_model import LinearRegression\n",
    "from sklearn.metrics import mean_squared_error\n",
    "\n",
    "# Option 1: Fill missing values with 0\n",
    "train_df_fill_zero = train_df.fillna(0)\n",
    "val_df_fill_zero = val_df.fillna(0)\n",
    "\n",
    "# Option 2: Fill missing values with mean (calculated from training data)\n",
    "mean_total_bedrooms = train_df['total_bedrooms'].mean()\n",
    "train_df_fill_mean = train_df.fillna(mean_total_bedrooms)\n",
    "val_df_fill_mean = val_df.fillna(mean_total_bedrooms)\n",
    "\n",
    "# Train and evaluate models for both options\n",
    "X_train_zero, y_train_zero = train_df_fill_zero.drop('median_house_value', axis=1), train_df_fill_zero['median_house_value']\n",
    "X_val_zero, y_val_zero = val_df_fill_zero.drop('median_house_value', axis=1), val_df_fill_zero['median_house_value']\n",
    "\n",
    "X_train_mean, y_train_mean = train_df_fill_mean.drop('median_house_value', axis=1), train_df_fill_mean['median_house_value']\n",
    "X_val_mean, y_val_mean = val_df_fill_mean.drop('median_house_value', axis=1), val_df_fill_mean['median_house_value']\n",
    "\n",
    "rmse_zero = train_and_evaluate(X_train_zero, y_train_zero, X_val_zero, y_val_zero)\n",
    "\n",
    "rmse_mean = train_and_evaluate(X_train_mean, y_train_mean, X_val_mean, y_val_mean)\n",
    "\n",
    "# Compare RMSE scores and print the result\n",
    "if rmse_zero < rmse_mean:\n",
    "    print(\"RMSE with 0:\", rmse_zero)\n",
    "    print(\"Option: With 0\")\n",
    "elif rmse_zero > rmse_mean:\n",
    "    print(\"RMSE with mean:\", rmse_mean)\n",
    "    print(\"Option: With mean\")\n",
    "else:\n",
    "    print(\"Both options are equally good\")\n",
    "\n",
    "print(\"RMSE With 0:\", rmse_zero)\n",
    "print(\"RMSE With mean:\", rmse_zero)"
   ]
  },
  {
   "cell_type": "markdown",
   "metadata": {},
   "source": [
    "Question 4\n",
    "\n",
    "1. Now let's train a regularized linear regression.\n",
    "2. For this question, fill the NAs with 0.\n",
    "3. Try different values of r from this list: [0, 0.000001, 0.0001, 0.001, 0.01, 0.1, 1, 5, 10].\n",
    "4. Use RMSE to evaluate the model on the validation dataset.\n",
    "5. Round the RMSE scores to 2 decimal digits.\n",
    "6. Which r gives the best RMSE?\n",
    "\n",
    "If there are multiple options, select the smallest `r`.\n",
    "\n",
    "Options:\n",
    "- 0\n",
    "- 0.000001\n",
    "- 0.001\n",
    "- 0.0001"
   ]
  },
  {
   "cell_type": "code",
   "execution_count": 11,
   "metadata": {},
   "outputs": [],
   "source": [
    "# Function to train and evaluate a Ridge regression model\n",
    "def train_and_evaluate_ridge(X_train, y_train, X_val, y_val, r):\n",
    "    model = Ridge(alpha=r)\n",
    "    model.fit(X_train, y_train)\n",
    "    \n",
    "    w_0 = model.intercept_\n",
    "    predictions = model.predict(X_val)\n",
    "    rmse_val = np.round(np.sqrt(mean_squared_error(y_val, predictions)), 2)\n",
    "    \n",
    "    return rmse_val, w_0"
   ]
  },
  {
   "cell_type": "code",
   "execution_count": 12,
   "metadata": {},
   "outputs": [
    {
     "name": "stdout",
     "output_type": "stream",
     "text": [
      "r=0, w_0=-9.809920225225603, RMSE=0.35\n",
      "r=1e-06, w_0=-9.80992021484419, RMSE=0.35\n",
      "r=0.0001, w_0=-9.809919187079988, RMSE=0.35\n",
      "r=0.001, w_0=-9.809909843773493, RMSE=0.35\n",
      "r=0.01, w_0=-9.809816411129642, RMSE=0.35\n",
      "r=0.1, w_0=-9.808882126788113, RMSE=0.35\n",
      "r=1, w_0=-9.799543491133647, RMSE=0.35\n",
      "r=5, w_0=-9.758130792318763, RMSE=0.35\n",
      "r=10, w_0=-9.706575978815579, RMSE=0.35\n",
      "The best regularization parameter is r=0 with RMSE=0.35\n"
     ]
    }
   ],
   "source": [
    "from sklearn.linear_model import Ridge\n",
    "\n",
    "# Fill missing values with 0\n",
    "X_train_fill_zero, y_train_fill_zero = train_df_fill_zero.drop('median_house_value', axis=1), train_df_fill_zero['median_house_value']\n",
    "X_val_fill_zero, y_val_fill_zero = val_df_fill_zero.drop('median_house_value', axis=1), val_df_fill_zero['median_house_value']\n",
    "\n",
    "# List of regularization parameter values\n",
    "r_values = [0, 0.000001, 0.0001, 0.001, 0.01, 0.1, 1, 5, 10]\n",
    "\n",
    "# Initialize variables to keep track of the best RMSE and corresponding r value\n",
    "best_rmse = float('inf')\n",
    "best_r = None\n",
    "\n",
    "# Iterate through different r values\n",
    "for r in r_values:\n",
    "    rmse_val, w_0 = train_and_evaluate_ridge(X_train_fill_zero, y_train_fill_zero, X_val_fill_zero, y_val_fill_zero, r)\n",
    "    \n",
    "    print(f\"r={r}, w_0={w_0}, RMSE={rmse_val}\")\n",
    "\n",
    "    # Update best RMSE and corresponding r value if needed\n",
    "    if rmse_val < best_rmse:\n",
    "        best_rmse = rmse_val\n",
    "        best_r = r\n",
    "\n",
    "# Print the best r value and its corresponding RMSE rounded to 2 decimal places\n",
    "print(f\"The best regularization parameter is r={best_r} with RMSE={round(best_rmse, 2)}\")"
   ]
  },
  {
   "cell_type": "markdown",
   "metadata": {},
   "source": [
    "Question 5\n",
    "\n",
    "1. We used seed 42 for splitting the data. Let's find out how selecting the seed influences our score.\n",
    "2. Try different seed values: [0, 1, 2, 3, 4, 5, 6, 7, 8, 9].\n",
    "3. For each seed, do the train/validation/test split with 60%/20%/20% distribution.\n",
    "4. Fill the missing values with 0 and train a model without regularization.\n",
    "5. For each seed, evaluate the model on the validation dataset and collect the RMSE scores.\n",
    "6. What's the standard deviation of all the scores? To compute the standard deviation, use np.std.\n",
    "7. Round the result to 3 decimal digits (round(std, 3))\n",
    "\n",
    "What's the value of std?\n",
    "\n",
    "- 0.5\n",
    "- 0.05\n",
    "- 0.005\n",
    "- 0.0005\n",
    "\n",
    "Note: Standard deviation shows how different the values are. If it's low, then all values are approximately the same. If it's high, the values are different. If standard deviation of scores is low, then our model is stable."
   ]
  },
  {
   "cell_type": "code",
   "execution_count": 13,
   "metadata": {},
   "outputs": [
    {
     "name": "stdout",
     "output_type": "stream",
     "text": [
      "Seed=0, RMSE=0.34\n",
      "Seed=1, RMSE=0.33\n",
      "Seed=2, RMSE=0.35\n",
      "Seed=3, RMSE=0.33\n",
      "Seed=4, RMSE=0.34\n",
      "Seed=5, RMSE=0.34\n",
      "Seed=6, RMSE=0.34\n",
      "Seed=7, RMSE=0.34\n",
      "Seed=8, RMSE=0.35\n",
      "Seed=9, RMSE=0.34\n",
      "The minimum standard deviation of RMSE is 0.006\n"
     ]
    }
   ],
   "source": [
    "# List of seed values\n",
    "seed_values = [0, 1, 2, 3, 4, 5, 6, 7, 8, 9]\n",
    "\n",
    "# Initialize an empty list to store RMSE scores\n",
    "rmse_scores = []\n",
    "\n",
    "# Iterate through different seed values\n",
    "for seed in seed_values:\n",
    "    # Shuffle the dataset with seed 42\n",
    "    shuffled_df = df.sample(frac=1, random_state=seed)\n",
    "\n",
    "    # Split the dataset into train (60%), validation (20%), and test (20%) sets\n",
    "    train_size = 0.6\n",
    "    val_size = 0.2\n",
    "    test_size = 0.2\n",
    "\n",
    "    train_df, temp_df = train_test_split(shuffled_df, train_size=train_size, random_state=42)\n",
    "    val_df, test_df = train_test_split(temp_df, train_size=val_size/(val_size + test_size), random_state=42)\n",
    "\n",
    "    # Fill missing values with 0\n",
    "    train_df_fill_zero = train_df.fillna(0)\n",
    "    val_df_fill_zero = val_df.fillna(0)\n",
    "\n",
    "    # Preprocess the data\n",
    "    train_X, train_y = preprocess_data(train_df_fill_zero)\n",
    "    val_X, val_y = preprocess_data(val_df_fill_zero)\n",
    "\n",
    "    rmse = train_and_evaluate(train_X, train_y, val_X, val_y)\n",
    "\n",
    "    # Append the RMSE score to the list\n",
    "    rmse_scores.append(rmse)\n",
    "    \n",
    "    # Print r, w_0, and RMSE for the current seed\n",
    "    print(f\"Seed={seed}, RMSE={rmse}\")\n",
    "\n",
    "# Find the minimum standard deviation of RMSE\n",
    "std_rmse = np.round(np.std(rmse_scores), 3)\n",
    "\n",
    "# Print the minimum standard deviation\n",
    "print(f\"The minimum standard deviation of RMSE is {std_rmse}\")"
   ]
  },
  {
   "cell_type": "markdown",
   "metadata": {},
   "source": [
    "Question 6\n",
    "\n",
    "1. Split the dataset like previously, use seed 9.\n",
    "2. Combine train and validation datasets.\n",
    "3. Fill the missing values with 0 and train a model with r=0.001.\n",
    "4. What's the RMSE on the test dataset?\n",
    "\n",
    "Options:\n",
    "- 0.13\n",
    "- 0.23\n",
    "- 0.33\n",
    "- 0.43"
   ]
  },
  {
   "cell_type": "code",
   "execution_count": 14,
   "metadata": {},
   "outputs": [
    {
     "name": "stdout",
     "output_type": "stream",
     "text": [
      "RMSE on the test dataset: 0.33\n"
     ]
    }
   ],
   "source": [
    "# Seed for shuffling the dataset\n",
    "seed = 9\n",
    "\n",
    "# Shuffle the dataset with seed 9\n",
    "shuffled_df = df.sample(frac=1, random_state=seed)\n",
    "\n",
    "# Split the dataset into train (60%), validation (20%), and test (20%) sets\n",
    "train_size = 0.6\n",
    "val_size = 0.2\n",
    "test_size = 0.2\n",
    "\n",
    "train_df, temp_df = train_test_split(shuffled_df, train_size=train_size, random_state=seed)\n",
    "val_df, test_df = train_test_split(temp_df, train_size=val_size/(val_size + test_size), random_state=seed)\n",
    "\n",
    "# Combine train and validation datasets\n",
    "train_val_df = pd.concat([train_df, val_df])\n",
    "\n",
    "# Fill missing values with 0\n",
    "train_val_df_fill_zero = train_val_df.fillna(0)\n",
    "test_df_fill_zero = test_df.fillna(0)\n",
    "\n",
    "# Preprocess the data\n",
    "train_X, train_y = preprocess_data(train_val_df_fill_zero)\n",
    "test_X, test_y = preprocess_data(test_df_fill_zero)\n",
    "\n",
    "rmse_test, w_0 = train_and_evaluate_ridge(train_X, train_y, test_X, test_y, r = 0.001)\n",
    "\n",
    "# Print the RMSE on the test dataset\n",
    "print(\"RMSE on the test dataset:\", rmse_test)"
   ]
  },
  {
   "cell_type": "code",
   "execution_count": null,
   "metadata": {},
   "outputs": [],
   "source": []
  }
 ],
 "metadata": {
  "kernelspec": {
   "display_name": "base",
   "language": "python",
   "name": "python3"
  },
  "language_info": {
   "codemirror_mode": {
    "name": "ipython",
    "version": 3
   },
   "file_extension": ".py",
   "mimetype": "text/x-python",
   "name": "python",
   "nbconvert_exporter": "python",
   "pygments_lexer": "ipython3",
   "version": "3.9.12"
  },
  "orig_nbformat": 4
 },
 "nbformat": 4,
 "nbformat_minor": 2
}
